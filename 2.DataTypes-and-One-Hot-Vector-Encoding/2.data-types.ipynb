{
 "cells": [
  {
   "cell_type": "markdown",
   "id": "04f715dd-41ff-46c5-8d5a-c1705031095b",
   "metadata": {},
   "source": [
    "# Imports"
   ]
  },
  {
   "cell_type": "code",
   "execution_count": 3,
   "id": "448b57eb-cea4-4527-b8fe-1bc4077788cc",
   "metadata": {
    "tags": []
   },
   "outputs": [],
   "source": [
    "import pandas as pd"
   ]
  },
  {
   "cell_type": "markdown",
   "id": "1e6e405b-4c64-41b5-90df-cb00dcd3e2ef",
   "metadata": {
    "tags": []
   },
   "source": [
    "# Datatset"
   ]
  },
  {
   "cell_type": "code",
   "execution_count": 4,
   "id": "b84f10df-011f-4914-8c83-95391a4e6ba6",
   "metadata": {
    "tags": []
   },
   "outputs": [],
   "source": [
    "url = \"nhanes_2015_2016.csv\""
   ]
  },
  {
   "cell_type": "code",
   "execution_count": 6,
   "id": "4bbf3ee2-dc0a-42b7-99d8-be57b12143a4",
   "metadata": {
    "tags": []
   },
   "outputs": [],
   "source": [
    "da = pd.read_csv(url)"
   ]
  },
  {
   "cell_type": "markdown",
   "id": "c482fd60-e7c7-4ae9-a52b-5c3cec8de5a0",
   "metadata": {},
   "source": [
    "### Listing columns in dataset"
   ]
  },
  {
   "cell_type": "code",
   "execution_count": 26,
   "id": "92ddd891-50f9-4420-a6cb-c13e3e79d46f",
   "metadata": {
    "tags": []
   },
   "outputs": [
    {
     "data": {
      "text/plain": [
       "Index(['SEQN', 'ALQ101', 'ALQ110', 'ALQ130', 'SMQ020', 'RIAGENDR', 'RIDAGEYR',\n",
       "       'RIDRETH1', 'DMDCITZN', 'DMDEDUC2', 'DMDMARTL', 'DMDHHSIZ', 'WTINT2YR',\n",
       "       'SDMVPSU', 'SDMVSTRA', 'INDFMPIR', 'BPXSY1', 'BPXDI1', 'BPXSY2',\n",
       "       'BPXDI2', 'BMXWT', 'BMXHT', 'BMXBMI', 'BMXLEG', 'BMXARML', 'BMXARMC',\n",
       "       'BMXWAIST', 'HIQ210'],\n",
       "      dtype='object')"
      ]
     },
     "execution_count": 26,
     "metadata": {},
     "output_type": "execute_result"
    }
   ],
   "source": [
    "da.columns # to check available columns"
   ]
  },
  {
   "cell_type": "code",
   "execution_count": 8,
   "id": "d6d91702-4c0a-474b-814c-111ce2e08f7a",
   "metadata": {
    "tags": []
   },
   "outputs": [
    {
     "data": {
      "text/plain": [
       "0        94.8\n",
       "1        90.4\n",
       "2        83.4\n",
       "3       109.8\n",
       "4        55.2\n",
       "        ...  \n",
       "5730     59.1\n",
       "5731    112.1\n",
       "5732     71.7\n",
       "5733     78.2\n",
       "5734     58.3\n",
       "Name: BMXWT, Length: 5735, dtype: float64"
      ]
     },
     "execution_count": 8,
     "metadata": {},
     "output_type": "execute_result"
    }
   ],
   "source": [
    "da['BMXWT']"
   ]
  },
  {
   "cell_type": "markdown",
   "id": "d4a39bdd-b869-4b1b-89dd-11b8660a1a7f",
   "metadata": {},
   "source": [
    "we know that wieght is discrete and continuous we can get mean."
   ]
  },
  {
   "cell_type": "markdown",
   "id": "92bbea08-87e0-401e-9f34-453435f7e980",
   "metadata": {},
   "source": [
    "### Finding Mean"
   ]
  },
  {
   "cell_type": "code",
   "execution_count": 10,
   "id": "51e08380-5ea7-4c85-a912-ca58563ce87d",
   "metadata": {
    "tags": []
   },
   "outputs": [
    {
     "data": {
      "text/plain": [
       "81.34267560889516"
      ]
     },
     "execution_count": 10,
     "metadata": {},
     "output_type": "execute_result"
    }
   ],
   "source": [
    "da['BMXWT'].mean() # mean automatically drops NaN"
   ]
  },
  {
   "cell_type": "markdown",
   "id": "38c0c117-b8af-47f0-b1b2-1335a0478153",
   "metadata": {},
   "source": [
    "### Unique Values"
   ]
  },
  {
   "cell_type": "code",
   "execution_count": 12,
   "id": "bf7cb054-1ba4-4850-9a46-98bc28da1d6b",
   "metadata": {
    "tags": []
   },
   "outputs": [
    {
     "data": {
      "text/plain": [
       "array([ 5.,  3.,  4.,  2., nan,  1.,  9.])"
      ]
     },
     "execution_count": 12,
     "metadata": {},
     "output_type": "execute_result"
    }
   ],
   "source": [
    "da['DMDEDUC2'].unique()  # Categorical Ordered"
   ]
  },
  {
   "cell_type": "code",
   "execution_count": 13,
   "id": "a1c50529-8552-478a-af87-d489e6d8f912",
   "metadata": {
    "tags": []
   },
   "outputs": [],
   "source": [
    "g = da['RIAGENDR'] # Categorical, Unordered"
   ]
  },
  {
   "cell_type": "code",
   "execution_count": 14,
   "id": "0b14d1d9-fa88-4ced-9962-b853995c4d2f",
   "metadata": {
    "tags": []
   },
   "outputs": [
    {
     "data": {
      "text/plain": [
       "0       1\n",
       "1       1\n",
       "2       1\n",
       "3       2\n",
       "4       2\n",
       "       ..\n",
       "5730    2\n",
       "5731    1\n",
       "5732    2\n",
       "5733    1\n",
       "5734    2\n",
       "Name: RIAGENDR, Length: 5735, dtype: int64"
      ]
     },
     "execution_count": 14,
     "metadata": {},
     "output_type": "execute_result"
    }
   ],
   "source": [
    "g"
   ]
  },
  {
   "cell_type": "code",
   "execution_count": 15,
   "id": "77d2cab4-bef6-43d5-8a31-68fd2a01d4d5",
   "metadata": {
    "tags": []
   },
   "outputs": [
    {
     "data": {
      "text/plain": [
       "array([1, 2])"
      ]
     },
     "execution_count": 15,
     "metadata": {},
     "output_type": "execute_result"
    }
   ],
   "source": [
    "g.unique()"
   ]
  },
  {
   "cell_type": "markdown",
   "id": "2269049c-f421-41cc-be32-a9f4fda5c22c",
   "metadata": {},
   "source": [
    "# One Hot Encoding"
   ]
  },
  {
   "cell_type": "code",
   "execution_count": 16,
   "id": "bced5d8b-046a-4b96-8e58-07a31273aa09",
   "metadata": {
    "tags": []
   },
   "outputs": [],
   "source": [
    "B = ['bird', 'cat', 'dog', 'cat', 'bird', 'bird']\n",
    "\n",
    "d = {'categorical': B} # d dict, column as categorical and B is it's vals\n",
    "\n",
    "df = pd.DataFrame(d) # df is actually a dictionary of lists."
   ]
  },
  {
   "cell_type": "code",
   "execution_count": 17,
   "id": "60d778c1-4498-4533-ab86-3a1f93fe92e9",
   "metadata": {
    "tags": []
   },
   "outputs": [
    {
     "data": {
      "text/html": [
       "<div>\n",
       "<style scoped>\n",
       "    .dataframe tbody tr th:only-of-type {\n",
       "        vertical-align: middle;\n",
       "    }\n",
       "\n",
       "    .dataframe tbody tr th {\n",
       "        vertical-align: top;\n",
       "    }\n",
       "\n",
       "    .dataframe thead th {\n",
       "        text-align: right;\n",
       "    }\n",
       "</style>\n",
       "<table border=\"1\" class=\"dataframe\">\n",
       "  <thead>\n",
       "    <tr style=\"text-align: right;\">\n",
       "      <th></th>\n",
       "      <th>categorical</th>\n",
       "    </tr>\n",
       "  </thead>\n",
       "  <tbody>\n",
       "    <tr>\n",
       "      <th>0</th>\n",
       "      <td>bird</td>\n",
       "    </tr>\n",
       "    <tr>\n",
       "      <th>1</th>\n",
       "      <td>cat</td>\n",
       "    </tr>\n",
       "    <tr>\n",
       "      <th>2</th>\n",
       "      <td>dog</td>\n",
       "    </tr>\n",
       "    <tr>\n",
       "      <th>3</th>\n",
       "      <td>cat</td>\n",
       "    </tr>\n",
       "    <tr>\n",
       "      <th>4</th>\n",
       "      <td>bird</td>\n",
       "    </tr>\n",
       "    <tr>\n",
       "      <th>5</th>\n",
       "      <td>bird</td>\n",
       "    </tr>\n",
       "  </tbody>\n",
       "</table>\n",
       "</div>"
      ],
      "text/plain": [
       "  categorical\n",
       "0        bird\n",
       "1         cat\n",
       "2         dog\n",
       "3         cat\n",
       "4        bird\n",
       "5        bird"
      ]
     },
     "execution_count": 17,
     "metadata": {},
     "output_type": "execute_result"
    }
   ],
   "source": [
    "df"
   ]
  },
  {
   "cell_type": "code",
   "execution_count": null,
   "id": "e2ee0453-435a-4cfc-a73b-e993cd9a4cd9",
   "metadata": {},
   "outputs": [],
   "source": [
    "# we can assign bird cat and dog as 1,2,3 values but for machine it \n",
    "# create an order i.e bird > cat > dog"
   ]
  },
  {
   "cell_type": "code",
   "execution_count": 18,
   "id": "4942e5b1-2bc9-456e-b7a8-8f73da8095aa",
   "metadata": {
    "tags": []
   },
   "outputs": [
    {
     "data": {
      "text/plain": [
       "0    bird\n",
       "1     cat\n",
       "2     dog\n",
       "3     cat\n",
       "4    bird\n",
       "5    bird\n",
       "Name: categorical, dtype: object"
      ]
     },
     "execution_count": 18,
     "metadata": {},
     "output_type": "execute_result"
    }
   ],
   "source": [
    "df['categorical']"
   ]
  },
  {
   "cell_type": "code",
   "execution_count": 19,
   "id": "738569bf-9b8f-465b-8523-3b1bbdc01d5e",
   "metadata": {
    "tags": []
   },
   "outputs": [],
   "source": [
    "# \"dummies\" is used to create columns corresponding to unique values\n",
    "dfDummies = pd.get_dummies(df['categorical'], prefix = 'category') "
   ]
  },
  {
   "cell_type": "code",
   "execution_count": 22,
   "id": "8ca314ff-65e6-4784-974d-842ab41fb9c4",
   "metadata": {
    "tags": []
   },
   "outputs": [],
   "source": [
    "# due to prefix at new columns before each column name category word will be added."
   ]
  },
  {
   "cell_type": "code",
   "execution_count": 23,
   "id": "69297c9a-0765-4c44-998b-89f20bd4eaf3",
   "metadata": {
    "tags": []
   },
   "outputs": [
    {
     "data": {
      "text/html": [
       "<div>\n",
       "<style scoped>\n",
       "    .dataframe tbody tr th:only-of-type {\n",
       "        vertical-align: middle;\n",
       "    }\n",
       "\n",
       "    .dataframe tbody tr th {\n",
       "        vertical-align: top;\n",
       "    }\n",
       "\n",
       "    .dataframe thead th {\n",
       "        text-align: right;\n",
       "    }\n",
       "</style>\n",
       "<table border=\"1\" class=\"dataframe\">\n",
       "  <thead>\n",
       "    <tr style=\"text-align: right;\">\n",
       "      <th></th>\n",
       "      <th>category_bird</th>\n",
       "      <th>category_cat</th>\n",
       "      <th>category_dog</th>\n",
       "    </tr>\n",
       "  </thead>\n",
       "  <tbody>\n",
       "    <tr>\n",
       "      <th>0</th>\n",
       "      <td>1</td>\n",
       "      <td>0</td>\n",
       "      <td>0</td>\n",
       "    </tr>\n",
       "    <tr>\n",
       "      <th>1</th>\n",
       "      <td>0</td>\n",
       "      <td>1</td>\n",
       "      <td>0</td>\n",
       "    </tr>\n",
       "    <tr>\n",
       "      <th>2</th>\n",
       "      <td>0</td>\n",
       "      <td>0</td>\n",
       "      <td>1</td>\n",
       "    </tr>\n",
       "    <tr>\n",
       "      <th>3</th>\n",
       "      <td>0</td>\n",
       "      <td>1</td>\n",
       "      <td>0</td>\n",
       "    </tr>\n",
       "    <tr>\n",
       "      <th>4</th>\n",
       "      <td>1</td>\n",
       "      <td>0</td>\n",
       "      <td>0</td>\n",
       "    </tr>\n",
       "    <tr>\n",
       "      <th>5</th>\n",
       "      <td>1</td>\n",
       "      <td>0</td>\n",
       "      <td>0</td>\n",
       "    </tr>\n",
       "  </tbody>\n",
       "</table>\n",
       "</div>"
      ],
      "text/plain": [
       "   category_bird  category_cat  category_dog\n",
       "0              1             0             0\n",
       "1              0             1             0\n",
       "2              0             0             1\n",
       "3              0             1             0\n",
       "4              1             0             0\n",
       "5              1             0             0"
      ]
     },
     "execution_count": 23,
     "metadata": {},
     "output_type": "execute_result"
    }
   ],
   "source": [
    "dfDummies # Now dfDummies is another dataFrame with one Hot Encoding"
   ]
  },
  {
   "cell_type": "code",
   "execution_count": null,
   "id": "4cb0c623-a044-4242-8d73-4ac3be4d47ee",
   "metadata": {},
   "outputs": [],
   "source": [
    "# for 0 index 1st val in vector(row) will be 1 and other's 0\n",
    "# for 2nd index 2nd val in vector will be 1 and other's 0 and so on........!"
   ]
  },
  {
   "cell_type": "code",
   "execution_count": 24,
   "id": "de449999-4861-4371-acb3-d234644956a3",
   "metadata": {
    "tags": []
   },
   "outputs": [
    {
     "data": {
      "text/plain": [
       "array([[1, 0, 0],\n",
       "       [0, 1, 0],\n",
       "       [0, 0, 1],\n",
       "       [0, 1, 0],\n",
       "       [1, 0, 0],\n",
       "       [1, 0, 0]], dtype=uint8)"
      ]
     },
     "execution_count": 24,
     "metadata": {},
     "output_type": "execute_result"
    }
   ],
   "source": [
    "dfDummies.values"
   ]
  },
  {
   "cell_type": "code",
   "execution_count": null,
   "id": "6ae735b8-8058-41e5-b7e3-275ca9451a63",
   "metadata": {},
   "outputs": [],
   "source": []
  }
 ],
 "metadata": {
  "kernelspec": {
   "display_name": "Python 3 (ipykernel)",
   "language": "python",
   "name": "python3"
  },
  "language_info": {
   "codemirror_mode": {
    "name": "ipython",
    "version": 3
   },
   "file_extension": ".py",
   "mimetype": "text/x-python",
   "name": "python",
   "nbconvert_exporter": "python",
   "pygments_lexer": "ipython3",
   "version": "3.11.4"
  }
 },
 "nbformat": 4,
 "nbformat_minor": 5
}
